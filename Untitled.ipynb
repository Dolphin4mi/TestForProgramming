{
 "cells": [
  {
   "cell_type": "code",
   "execution_count": null,
   "metadata": {},
   "outputs": [],
   "source": [
    "# Definition for singly-linked list.\n",
    "# class ListNode:\n",
    "#     def __init__(self, x):\n",
    "#         self.val = x\n",
    "#         self.next = None\n",
    "\n",
    "class ListNode:\n",
    "    def __init__(self, x):\n",
    "        self.val = x\n",
    "        self.next None\n",
    "\n",
    "class Solution:\n",
    "    def mergeTwoLists(self, l1: ListNode, l2: ListNode) -> ListNode:\n",
    "        count = 0\n",
    "        while(l1 and l2):\n",
    "            if(l1.val <= l2.val):\n",
    "                current = ListNode(l1)\n",
    "                l1 = l1.next\n",
    "            else:\n",
    "                current = ListNode(l2)\n",
    "                l2 = l2.next\n",
    "            if(count == 0):\n",
    "                l3 = current\n",
    "            count += 1\n",
    "        if (l1):\n",
    "            current.next = l2\n",
    "        else:\n",
    "            current.next = l1\n",
    "        return l3\n",
    "    \n",
    "class __main__\n",
    "    \n",
    "    l1 = listNode(1)\n",
    "    new = listNode(3)\n",
    "    l1.next = new\n",
    "    new = listNode(5)\n",
    "    new.next = new\n",
    "    \n",
    "    l2 = listNode(2)\n",
    "    new = listNode(4)\n",
    "    l2.next = new\n",
    "    new = listNode(6)\n",
    "    new.next = new\n",
    "    \n",
    "    solu = Solution()\n",
    "    b=solu.isValid(s)\n",
    "    print(b)"
   ]
  }
 ],
 "metadata": {
  "kernelspec": {
   "display_name": "Python 3",
   "language": "python",
   "name": "python3"
  },
  "language_info": {
   "codemirror_mode": {
    "name": "ipython",
    "version": 3
   },
   "file_extension": ".py",
   "mimetype": "text/x-python",
   "name": "python",
   "nbconvert_exporter": "python",
   "pygments_lexer": "ipython3",
   "version": "3.7.3"
  }
 },
 "nbformat": 4,
 "nbformat_minor": 2
}
